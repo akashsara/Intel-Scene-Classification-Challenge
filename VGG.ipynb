{
 "cells": [
  {
   "cell_type": "code",
   "execution_count": null,
   "metadata": {
    "colab": {
     "base_uri": "https://localhost:8080/",
     "height": 121
    },
    "colab_type": "code",
    "executionInfo": {
     "elapsed": 30697,
     "status": "ok",
     "timestamp": 1553962334705,
     "user": {
      "displayName": "Akash Saravanan",
      "photoUrl": "https://lh5.googleusercontent.com/-ofj38Bj5qo0/AAAAAAAAAAI/AAAAAAAAAd4/Qp-S74XW5-0/s64/photo.jpg",
      "userId": "01828899211817759789"
     },
     "user_tz": -330
    },
    "id": "pFqiZwCSA4WO",
    "outputId": "9b935a9f-b4cc-4901-e585-ee638d178b90"
   },
   "outputs": [],
   "source": [
    "from google.colab import drive\n",
    "drive.mount('/content/drive')"
   ]
  },
  {
   "cell_type": "code",
   "execution_count": null,
   "metadata": {
    "colab": {
     "base_uri": "https://localhost:8080/",
     "height": 34
    },
    "colab_type": "code",
    "executionInfo": {
     "elapsed": 623,
     "status": "ok",
     "timestamp": 1553962340159,
     "user": {
      "displayName": "Akash Saravanan",
      "photoUrl": "https://lh5.googleusercontent.com/-ofj38Bj5qo0/AAAAAAAAAAI/AAAAAAAAAd4/Qp-S74XW5-0/s64/photo.jpg",
      "userId": "01828899211817759789"
     },
     "user_tz": -330
    },
    "id": "4A0VU0Y7BJPc",
    "outputId": "ce0751fb-5ff9-4b0c-887a-0a15fd081c11"
   },
   "outputs": [],
   "source": [
    "cd drive/My Drive/Colab Notebooks/data"
   ]
  },
  {
   "cell_type": "code",
   "execution_count": null,
   "metadata": {
    "colab": {
     "base_uri": "https://localhost:8080/",
     "height": 34
    },
    "colab_type": "code",
    "executionInfo": {
     "elapsed": 3228,
     "status": "ok",
     "timestamp": 1553962343660,
     "user": {
      "displayName": "Akash Saravanan",
      "photoUrl": "https://lh5.googleusercontent.com/-ofj38Bj5qo0/AAAAAAAAAAI/AAAAAAAAAd4/Qp-S74XW5-0/s64/photo.jpg",
      "userId": "01828899211817759789"
     },
     "user_tz": -330
    },
    "id": "t3wt7MS1BVIo",
    "outputId": "c88f52f5-deaa-47ff-f05f-353c1b8049a6"
   },
   "outputs": [],
   "source": [
    "ls"
   ]
  },
  {
   "cell_type": "markdown",
   "metadata": {
    "colab_type": "text",
    "id": "IUs-Fj6pOEvS"
   },
   "source": [
    "# Imports\n",
    "\n",
    "---\n",
    "\n"
   ]
  },
  {
   "cell_type": "code",
   "execution_count": 1,
   "metadata": {
    "colab": {},
    "colab_type": "code",
    "id": "h6blokNhBZYE"
   },
   "outputs": [],
   "source": [
    "import pandas as pd\n",
    "import numpy as np\n",
    "import matplotlib.pyplot as plt"
   ]
  },
  {
   "cell_type": "code",
   "execution_count": 2,
   "metadata": {
    "colab": {},
    "colab_type": "code",
    "id": "DKteSAKIByKf"
   },
   "outputs": [
    {
     "name": "stderr",
     "output_type": "stream",
     "text": [
      "C:\\Users\\akash\\Anaconda3\\envs\\tensorflow\\lib\\site-packages\\h5py\\__init__.py:36: FutureWarning: Conversion of the second argument of issubdtype from `float` to `np.floating` is deprecated. In future, it will be treated as `np.float64 == np.dtype(float).type`.\n",
      "  from ._conv import register_converters as _register_converters\n",
      "Using TensorFlow backend.\n"
     ]
    }
   ],
   "source": [
    "from keras.applications.vgg19 import VGG19\n",
    "from keras.applications.vgg19 import preprocess_input\n",
    "from keras.preprocessing.image import load_img\n",
    "from keras.preprocessing.image import img_to_array\n",
    "from keras.preprocessing.image import ImageDataGenerator\n",
    "from keras.layers import Dense, Activation, Flatten, Dropout\n",
    "from keras.models import Model, Sequential\n",
    "from keras.optimizers import Adam\n",
    "from keras.callbacks import ModelCheckpoint, EarlyStopping"
   ]
  },
  {
   "cell_type": "markdown",
   "metadata": {
    "colab_type": "text",
    "id": "apE9OdLPMqbP"
   },
   "source": [
    "# Make Model\n",
    "\n",
    "---\n",
    "\n"
   ]
  },
  {
   "cell_type": "code",
   "execution_count": 3,
   "metadata": {
    "colab": {},
    "colab_type": "code",
    "id": "liQ4y9ZJNtK4"
   },
   "outputs": [],
   "source": [
    "def make_model():\n",
    "    base_model = VGG19(include_top=False, input_shape=(150, 150, 3), weights='imagenet')\n",
    "    for layer in base_model.layers:\n",
    "        layer.trainable = False\n",
    "    x = base_model.output\n",
    "    x = Flatten()(x)\n",
    "    x = Dense(4096, activation='relu')(x) \n",
    "    x = Dropout(0.3)(x)\n",
    "    x = Dense(2048, activation='relu')(x) \n",
    "    x = Dropout(0.3)(x)\n",
    "    x = Dense(1024, activation='relu')(x) \n",
    "    x = Dropout(0.3)(x)\n",
    "    x = Dense(512, activation='relu')(x) \n",
    "    x = Dropout(0.3)(x)\n",
    "    x = Dense(256, activation='relu')(x) \n",
    "    x = Dropout(0.3)(x)\n",
    "    predictions = Dense(6, activation='softmax')(x)\n",
    "    model = Model(inputs=base_model.input, outputs=predictions)\n",
    "    return model"
   ]
  },
  {
   "cell_type": "code",
   "execution_count": 4,
   "metadata": {
    "colab": {
     "base_uri": "https://localhost:8080/",
     "height": 1196
    },
    "colab_type": "code",
    "executionInfo": {
     "elapsed": 13989,
     "status": "ok",
     "timestamp": 1553962371072,
     "user": {
      "displayName": "Akash Saravanan",
      "photoUrl": "https://lh5.googleusercontent.com/-ofj38Bj5qo0/AAAAAAAAAAI/AAAAAAAAAd4/Qp-S74XW5-0/s64/photo.jpg",
      "userId": "01828899211817759789"
     },
     "user_tz": -330
    },
    "id": "1warL-n7Cso8",
    "outputId": "664392aa-b3ca-479c-fcc2-95c4353f85aa"
   },
   "outputs": [
    {
     "name": "stdout",
     "output_type": "stream",
     "text": [
      "Downloading data from https://github.com/fchollet/deep-learning-models/releases/download/v0.1/vgg19_weights_tf_dim_ordering_tf_kernels_notop.h5\n",
      "80142336/80134624 [==============================] - 23s 0us/step\n",
      "_________________________________________________________________\n",
      "Layer (type)                 Output Shape              Param #   \n",
      "=================================================================\n",
      "input_1 (InputLayer)         (None, 150, 150, 3)       0         \n",
      "_________________________________________________________________\n",
      "block1_conv1 (Conv2D)        (None, 150, 150, 64)      1792      \n",
      "_________________________________________________________________\n",
      "block1_conv2 (Conv2D)        (None, 150, 150, 64)      36928     \n",
      "_________________________________________________________________\n",
      "block1_pool (MaxPooling2D)   (None, 75, 75, 64)        0         \n",
      "_________________________________________________________________\n",
      "block2_conv1 (Conv2D)        (None, 75, 75, 128)       73856     \n",
      "_________________________________________________________________\n",
      "block2_conv2 (Conv2D)        (None, 75, 75, 128)       147584    \n",
      "_________________________________________________________________\n",
      "block2_pool (MaxPooling2D)   (None, 37, 37, 128)       0         \n",
      "_________________________________________________________________\n",
      "block3_conv1 (Conv2D)        (None, 37, 37, 256)       295168    \n",
      "_________________________________________________________________\n",
      "block3_conv2 (Conv2D)        (None, 37, 37, 256)       590080    \n",
      "_________________________________________________________________\n",
      "block3_conv3 (Conv2D)        (None, 37, 37, 256)       590080    \n",
      "_________________________________________________________________\n",
      "block3_conv4 (Conv2D)        (None, 37, 37, 256)       590080    \n",
      "_________________________________________________________________\n",
      "block3_pool (MaxPooling2D)   (None, 18, 18, 256)       0         \n",
      "_________________________________________________________________\n",
      "block4_conv1 (Conv2D)        (None, 18, 18, 512)       1180160   \n",
      "_________________________________________________________________\n",
      "block4_conv2 (Conv2D)        (None, 18, 18, 512)       2359808   \n",
      "_________________________________________________________________\n",
      "block4_conv3 (Conv2D)        (None, 18, 18, 512)       2359808   \n",
      "_________________________________________________________________\n",
      "block4_conv4 (Conv2D)        (None, 18, 18, 512)       2359808   \n",
      "_________________________________________________________________\n",
      "block4_pool (MaxPooling2D)   (None, 9, 9, 512)         0         \n",
      "_________________________________________________________________\n",
      "block5_conv1 (Conv2D)        (None, 9, 9, 512)         2359808   \n",
      "_________________________________________________________________\n",
      "block5_conv2 (Conv2D)        (None, 9, 9, 512)         2359808   \n",
      "_________________________________________________________________\n",
      "block5_conv3 (Conv2D)        (None, 9, 9, 512)         2359808   \n",
      "_________________________________________________________________\n",
      "block5_conv4 (Conv2D)        (None, 9, 9, 512)         2359808   \n",
      "_________________________________________________________________\n",
      "block5_pool (MaxPooling2D)   (None, 4, 4, 512)         0         \n",
      "_________________________________________________________________\n",
      "flatten_1 (Flatten)          (None, 8192)              0         \n",
      "_________________________________________________________________\n",
      "dense_1 (Dense)              (None, 4096)              33558528  \n",
      "_________________________________________________________________\n",
      "dropout_1 (Dropout)          (None, 4096)              0         \n",
      "_________________________________________________________________\n",
      "dense_2 (Dense)              (None, 2048)              8390656   \n",
      "_________________________________________________________________\n",
      "dropout_2 (Dropout)          (None, 2048)              0         \n",
      "_________________________________________________________________\n",
      "dense_3 (Dense)              (None, 1024)              2098176   \n",
      "_________________________________________________________________\n",
      "dropout_3 (Dropout)          (None, 1024)              0         \n",
      "_________________________________________________________________\n",
      "dense_4 (Dense)              (None, 512)               524800    \n",
      "_________________________________________________________________\n",
      "dropout_4 (Dropout)          (None, 512)               0         \n",
      "_________________________________________________________________\n",
      "dense_5 (Dense)              (None, 256)               131328    \n",
      "_________________________________________________________________\n",
      "dropout_5 (Dropout)          (None, 256)               0         \n",
      "_________________________________________________________________\n",
      "dense_6 (Dense)              (None, 6)                 1542      \n",
      "=================================================================\n",
      "Total params: 64,729,414\n",
      "Trainable params: 44,705,030\n",
      "Non-trainable params: 20,024,384\n",
      "_________________________________________________________________\n"
     ]
    }
   ],
   "source": [
    "make_model().summary()"
   ]
  },
  {
   "cell_type": "markdown",
   "metadata": {
    "colab_type": "text",
    "id": "RR55h5_rNoma"
   },
   "source": [
    "# Setting up Input Data Generators\n",
    "\n",
    "---\n",
    "\n"
   ]
  },
  {
   "cell_type": "code",
   "execution_count": 5,
   "metadata": {
    "colab": {},
    "colab_type": "code",
    "id": "Se5W1yGXR4Lm"
   },
   "outputs": [],
   "source": [
    "def plot_training(history):\n",
    "    acc = history.history['acc']\n",
    "    val_acc = history.history['val_acc']\n",
    "    loss = history.history['loss']\n",
    "    val_loss = history.history['val_loss']\n",
    "    epochs = range(len(acc))\n",
    "    plt.plot(epochs, acc, 'r.')\n",
    "    plt.plot(epochs, val_acc, 'r')\n",
    "    plt.title('Training and validation accuracy')\n",
    "    plt.savefig('acc_vs_epochs.png')"
   ]
  },
  {
   "cell_type": "code",
   "execution_count": 6,
   "metadata": {
    "colab": {},
    "colab_type": "code",
    "id": "zGnx5NzgBuq4"
   },
   "outputs": [],
   "source": [
    "train_path = 'data/train/'"
   ]
  },
  {
   "cell_type": "code",
   "execution_count": 7,
   "metadata": {
    "colab": {},
    "colab_type": "code",
    "id": "DpT3dwBVXtya"
   },
   "outputs": [],
   "source": [
    "valid_path = 'data/valid/'"
   ]
  },
  {
   "cell_type": "markdown",
   "metadata": {
    "colab_type": "text",
    "id": "vjULaDY2JAc5"
   },
   "source": [
    "No data augmentation for now."
   ]
  },
  {
   "cell_type": "code",
   "execution_count": 8,
   "metadata": {
    "colab": {},
    "colab_type": "code",
    "id": "GRg5fssiIuW8"
   },
   "outputs": [],
   "source": [
    "train_datagen =  ImageDataGenerator(\n",
    "      preprocessing_function=preprocess_input,\n",
    "      rotation_range=0,\n",
    "      horizontal_flip=False,\n",
    "      vertical_flip=False\n",
    ")"
   ]
  },
  {
   "cell_type": "code",
   "execution_count": 9,
   "metadata": {
    "colab": {},
    "colab_type": "code",
    "id": "lw8M-Pm9Xtyj"
   },
   "outputs": [],
   "source": [
    "valid_datagen =  ImageDataGenerator(\n",
    "      preprocessing_function=preprocess_input,\n",
    "      rotation_range=0,\n",
    "      horizontal_flip=False,\n",
    "      vertical_flip=False\n",
    ")"
   ]
  },
  {
   "cell_type": "code",
   "execution_count": 12,
   "metadata": {
    "colab": {
     "base_uri": "https://localhost:8080/",
     "height": 34
    },
    "colab_type": "code",
    "executionInfo": {
     "elapsed": 927,
     "status": "ok",
     "timestamp": 1553962549729,
     "user": {
      "displayName": "Akash Saravanan",
      "photoUrl": "https://lh5.googleusercontent.com/-ofj38Bj5qo0/AAAAAAAAAAI/AAAAAAAAAd4/Qp-S74XW5-0/s64/photo.jpg",
      "userId": "01828899211817759789"
     },
     "user_tz": -330
    },
    "id": "wVTnBs19JHGV",
    "outputId": "b31eeb46-bf3e-4211-abde-1fe127bb66c0"
   },
   "outputs": [
    {
     "name": "stdout",
     "output_type": "stream",
     "text": [
      "Found 13627 images belonging to 6 classes.\n"
     ]
    }
   ],
   "source": [
    "train_generator = train_datagen.flow_from_directory(train_path, target_size=(150, 150), \n",
    "                                                    batch_size=32, shuffle=True, seed=42)"
   ]
  },
  {
   "cell_type": "code",
   "execution_count": 13,
   "metadata": {
    "colab": {
     "base_uri": "https://localhost:8080/",
     "height": 34
    },
    "colab_type": "code",
    "executionInfo": {
     "elapsed": 4851,
     "status": "ok",
     "timestamp": 1553962554294,
     "user": {
      "displayName": "Akash Saravanan",
      "photoUrl": "https://lh5.googleusercontent.com/-ofj38Bj5qo0/AAAAAAAAAAI/AAAAAAAAAd4/Qp-S74XW5-0/s64/photo.jpg",
      "userId": "01828899211817759789"
     },
     "user_tz": -330
    },
    "id": "Z8nffPCAXtyu",
    "outputId": "3c7b48f2-11c4-4ec9-f739-dc5d9c2a45a2"
   },
   "outputs": [
    {
     "name": "stdout",
     "output_type": "stream",
     "text": [
      "Found 3407 images belonging to 6 classes.\n"
     ]
    }
   ],
   "source": [
    "valid_generator = valid_datagen.flow_from_directory(valid_path, target_size=(150, 150), \n",
    "                                                    batch_size=32, shuffle=True, seed=42)"
   ]
  },
  {
   "cell_type": "markdown",
   "metadata": {
    "colab_type": "text",
    "id": "7PhXEfyHXtyz"
   },
   "source": [
    "# Training\n",
    "\n",
    "---"
   ]
  },
  {
   "cell_type": "code",
   "execution_count": 14,
   "metadata": {
    "colab": {},
    "colab_type": "code",
    "id": "3e370BXsXty0"
   },
   "outputs": [],
   "source": [
    "model = make_model()"
   ]
  },
  {
   "cell_type": "code",
   "execution_count": 15,
   "metadata": {
    "colab": {},
    "colab_type": "code",
    "id": "dq_gjHEYXty3"
   },
   "outputs": [],
   "source": [
    "model.compile(Adam(lr=0.00001, decay=0.000001), loss='categorical_crossentropy', metrics=['accuracy'])"
   ]
  },
  {
   "cell_type": "code",
   "execution_count": 16,
   "metadata": {
    "colab": {},
    "colab_type": "code",
    "id": "3hHLQmPWPVmD"
   },
   "outputs": [],
   "source": [
    "filepath=\"./checkpoints/\" + \"VGG16\" + \"_model_weights.h5\"\n",
    "checkpoint = ModelCheckpoint(filepath, monitor=[\"acc\"], verbose=1, mode='max')\n",
    "earlystop = EarlyStopping(monitor='val_loss', patience=3)\n",
    "callbacks_list = [checkpoint]"
   ]
  },
  {
   "cell_type": "code",
   "execution_count": 17,
   "metadata": {
    "colab": {},
    "colab_type": "code",
    "id": "GjaqpeZZQZQh",
    "outputId": "52800096-573d-4f45-ff82-cd953007da1e",
    "scrolled": false
   },
   "outputs": [
    {
     "name": "stdout",
     "output_type": "stream",
     "text": [
      "Epoch 1/10\n",
      "425/425 [==============================] - 164s 385ms/step - loss: 3.8635 - acc: 0.4457 - val_loss: 0.4632 - val_acc: 0.8644\n",
      "\n",
      "Epoch 00001: saving model to ./checkpoints/VGG16_model_weights.h5\n",
      "Epoch 2/10\n",
      "425/425 [==============================] - 152s 358ms/step - loss: 1.5604 - acc: 0.6857 - val_loss: 0.3967 - val_acc: 0.8862\n",
      "\n",
      "Epoch 00002: saving model to ./checkpoints/VGG16_model_weights.h5\n",
      "Epoch 3/10\n",
      "425/425 [==============================] - 152s 357ms/step - loss: 1.1105 - acc: 0.7579 - val_loss: 0.3430 - val_acc: 0.8939\n",
      "\n",
      "Epoch 00003: saving model to ./checkpoints/VGG16_model_weights.h5\n",
      "Epoch 4/10\n",
      "425/425 [==============================] - 152s 358ms/step - loss: 0.8681 - acc: 0.8000 - val_loss: 0.3096 - val_acc: 0.9061\n",
      "\n",
      "Epoch 00004: saving model to ./checkpoints/VGG16_model_weights.h5\n",
      "Epoch 5/10\n",
      "425/425 [==============================] - 153s 359ms/step - loss: 0.7323 - acc: 0.8198 - val_loss: 0.3077 - val_acc: 0.9102\n",
      "\n",
      "Epoch 00005: saving model to ./checkpoints/VGG16_model_weights.h5\n",
      "Epoch 6/10\n",
      "425/425 [==============================] - 153s 360ms/step - loss: 0.6169 - acc: 0.8406 - val_loss: 0.3152 - val_acc: 0.9040\n",
      "\n",
      "Epoch 00006: saving model to ./checkpoints/VGG16_model_weights.h5\n",
      "Epoch 7/10\n",
      "425/425 [==============================] - 153s 359ms/step - loss: 0.5610 - acc: 0.8491 - val_loss: 0.2866 - val_acc: 0.9108\n",
      "\n",
      "Epoch 00007: saving model to ./checkpoints/VGG16_model_weights.h5\n",
      "Epoch 8/10\n",
      "425/425 [==============================] - 153s 360ms/step - loss: 0.5057 - acc: 0.8617 - val_loss: 0.2677 - val_acc: 0.9141\n",
      "\n",
      "Epoch 00008: saving model to ./checkpoints/VGG16_model_weights.h5\n",
      "Epoch 9/10\n",
      "425/425 [==============================] - 152s 357ms/step - loss: 0.4345 - acc: 0.8766 - val_loss: 0.2685 - val_acc: 0.9173\n",
      "\n",
      "Epoch 00009: saving model to ./checkpoints/VGG16_model_weights.h5\n",
      "Epoch 10/10\n",
      "425/425 [==============================] - 152s 358ms/step - loss: 0.3912 - acc: 0.8895 - val_loss: 0.2750 - val_acc: 0.9159\n",
      "\n",
      "Epoch 00010: saving model to ./checkpoints/VGG16_model_weights.h5\n"
     ]
    }
   ],
   "source": [
    "history = model.fit_generator(train_generator, \n",
    "                              epochs = 10, \n",
    "                              steps_per_epoch = 13627 // 32,\n",
    "                              shuffle = True, \n",
    "                              validation_data = valid_generator,\n",
    "                              validation_steps = 3407 // 32,\n",
    "                              callbacks = callbacks_list)"
   ]
  },
  {
   "cell_type": "code",
   "execution_count": 18,
   "metadata": {
    "colab": {},
    "colab_type": "code",
    "id": "agrBDdPZRuhB",
    "outputId": "9ee1acfc-3d9e-41c9-ac4f-52e11d0068f1"
   },
   "outputs": [
    {
     "data": {
      "image/png": "[encoded data removed]",
      "text/plain": [
       "<Figure size 432x288 with 1 Axes>"
      ]
     },
     "metadata": {},
     "output_type": "display_data"
    }
   ],
   "source": [
    "plot_training(history)"
   ]
  },
  {
   "cell_type": "code",
   "execution_count": 19,
   "metadata": {
    "colab": {},
    "colab_type": "code",
    "id": "viwqMrDYXtzG"
   },
   "outputs": [],
   "source": [
    "import os"
   ]
  },
  {
   "cell_type": "code",
   "execution_count": 20,
   "metadata": {
    "colab": {},
    "colab_type": "code",
    "id": "EVs5aZWFXtzM"
   },
   "outputs": [],
   "source": [
    "test_path = 'data/test'"
   ]
  },
  {
   "cell_type": "code",
   "execution_count": 21,
   "metadata": {
    "colab": {},
    "colab_type": "code",
    "id": "W0wsPNduXtzQ"
   },
   "outputs": [],
   "source": [
    "results = []"
   ]
  },
  {
   "cell_type": "code",
   "execution_count": 22,
   "metadata": {
    "colab": {},
    "colab_type": "code",
    "id": "wz8rciPdXtzX"
   },
   "outputs": [],
   "source": [
    "for image_name in os.listdir(test_path):\n",
    "    image_path = test_path + '/' + image_name\n",
    "    image = load_img(image_path, target_size=(150, 150))\n",
    "    image = img_to_array(image)\n",
    "    image = np.array(image)\n",
    "    image = preprocess_input(image)\n",
    "    image = image.reshape(1, image.shape[0], image.shape[1], image.shape[2])\n",
    "    prediction = np.argmax(model.predict(image))\n",
    "    results.append({'image_name': image_name, 'label':prediction})"
   ]
  },
  {
   "cell_type": "code",
   "execution_count": 23,
   "metadata": {
    "colab": {},
    "colab_type": "code",
    "id": "ctuv0ZCZXtzi"
   },
   "outputs": [],
   "source": [
    "df = pd.DataFrame(results, columns=['image_name', 'label'])"
   ]
  },
  {
   "cell_type": "code",
   "execution_count": 24,
   "metadata": {},
   "outputs": [
    {
     "data": {
      "text/plain": [
       "3    1321\n",
       "5    1276\n",
       "2    1222\n",
       "4    1191\n",
       "1    1189\n",
       "0    1102\n",
       "Name: label, dtype: int64"
      ]
     },
     "execution_count": 24,
     "metadata": {},
     "output_type": "execute_result"
    }
   ],
   "source": [
    "df['label'].value_counts()"
   ]
  },
  {
   "cell_type": "code",
   "execution_count": 25,
   "metadata": {
    "colab": {},
    "colab_type": "code",
    "id": "r0dNhEzVXtzt"
   },
   "outputs": [],
   "source": [
    "df.to_csv(\"vgg19_big_10epochs_decay.csv\", index=False)"
   ]
  },
  {
   "cell_type": "code",
   "execution_count": null,
   "metadata": {
    "colab": {},
    "colab_type": "code",
    "id": "gt0BmpufXtzy"
   },
   "outputs": [],
   "source": []
  }
 ],
 "metadata": {
  "colab": {
   "collapsed_sections": [
    "IUs-Fj6pOEvS",
    "apE9OdLPMqbP"
   ],
   "name": "VGG16.ipynb",
   "provenance": [],
   "version": "0.3.2"
  },
  "kernelspec": {
   "display_name": "Python 3",
   "language": "python",
   "name": "python3"
  },
  "language_info": {
   "codemirror_mode": {
    "name": "ipython",
    "version": 3
   },
   "file_extension": ".py",
   "mimetype": "text/x-python",
   "name": "python",
   "nbconvert_exporter": "python",
   "pygments_lexer": "ipython3",
   "version": "3.5.4"
  }
 },
 "nbformat": 4,
 "nbformat_minor": 1
}
