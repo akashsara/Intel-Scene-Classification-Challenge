{
 "cells": [
  {
   "cell_type": "markdown",
   "metadata": {
    "colab_type": "text",
    "id": "IUs-Fj6pOEvS"
   },
   "source": [
    "# Imports\n",
    "\n",
    "---\n",
    "\n"
   ]
  },
  {
   "cell_type": "code",
   "execution_count": 1,
   "metadata": {
    "colab": {},
    "colab_type": "code",
    "id": "h6blokNhBZYE"
   },
   "outputs": [],
   "source": [
    "import pandas as pd\n",
    "import numpy as np\n",
    "import matplotlib.pyplot as plt"
   ]
  },
  {
   "cell_type": "code",
   "execution_count": 3,
   "metadata": {
    "colab": {},
    "colab_type": "code",
    "id": "DKteSAKIByKf"
   },
   "outputs": [
    {
     "ename": "ImportError",
     "evalue": "No module named 'keras.applications.resnet'",
     "output_type": "error",
     "traceback": [
      "\u001b[1;31m---------------------------------------------------------------------------\u001b[0m",
      "\u001b[1;31mImportError\u001b[0m                               Traceback (most recent call last)",
      "\u001b[1;32m<ipython-input-3-a8792bb1af1f>\u001b[0m in \u001b[0;36m<module>\u001b[1;34m()\u001b[0m\n\u001b[1;32m----> 1\u001b[1;33m \u001b[1;32mfrom\u001b[0m \u001b[0mkeras\u001b[0m\u001b[1;33m.\u001b[0m\u001b[0mapplications\u001b[0m\u001b[1;33m.\u001b[0m\u001b[0mresnet\u001b[0m\u001b[1;33m.\u001b[0m\u001b[0mResNet101\u001b[0m \u001b[1;32mimport\u001b[0m \u001b[0mResNet101\u001b[0m\u001b[1;33m\u001b[0m\u001b[0m\n\u001b[0m\u001b[0;32m      2\u001b[0m \u001b[1;32mfrom\u001b[0m \u001b[0mkeras\u001b[0m\u001b[1;33m.\u001b[0m\u001b[0mapplications\u001b[0m\u001b[1;33m.\u001b[0m\u001b[0mresnet50\u001b[0m \u001b[1;32mimport\u001b[0m \u001b[0mpreprocess_input\u001b[0m\u001b[1;33m\u001b[0m\u001b[0m\n\u001b[0;32m      3\u001b[0m \u001b[1;32mfrom\u001b[0m \u001b[0mkeras\u001b[0m\u001b[1;33m.\u001b[0m\u001b[0mpreprocessing\u001b[0m\u001b[1;33m.\u001b[0m\u001b[0mimage\u001b[0m \u001b[1;32mimport\u001b[0m \u001b[0mload_img\u001b[0m\u001b[1;33m\u001b[0m\u001b[0m\n\u001b[0;32m      4\u001b[0m \u001b[1;32mfrom\u001b[0m \u001b[0mkeras\u001b[0m\u001b[1;33m.\u001b[0m\u001b[0mpreprocessing\u001b[0m\u001b[1;33m.\u001b[0m\u001b[0mimage\u001b[0m \u001b[1;32mimport\u001b[0m \u001b[0mimg_to_array\u001b[0m\u001b[1;33m\u001b[0m\u001b[0m\n\u001b[0;32m      5\u001b[0m \u001b[1;32mfrom\u001b[0m \u001b[0mkeras\u001b[0m\u001b[1;33m.\u001b[0m\u001b[0mpreprocessing\u001b[0m\u001b[1;33m.\u001b[0m\u001b[0mimage\u001b[0m \u001b[1;32mimport\u001b[0m \u001b[0mImageDataGenerator\u001b[0m\u001b[1;33m\u001b[0m\u001b[0m\n",
      "\u001b[1;31mImportError\u001b[0m: No module named 'keras.applications.resnet'"
     ]
    }
   ],
   "source": [
    "from keras.applications.resnet50 import ResNet50\n",
    "from keras.applications.resnet50 import preprocess_input\n",
    "from keras.preprocessing.image import load_img\n",
    "from keras.preprocessing.image import img_to_array\n",
    "from keras.preprocessing.image import ImageDataGenerator\n",
    "from keras.layers import Dense, Activation, Flatten, Dropout\n",
    "from keras.models import Model, Sequential\n",
    "from keras.optimizers import Adam\n",
    "from keras.callbacks import ModelCheckpoint, EarlyStopping"
   ]
  },
  {
   "cell_type": "markdown",
   "metadata": {
    "colab_type": "text",
    "id": "apE9OdLPMqbP"
   },
   "source": [
    "# Make Model\n",
    "\n",
    "---\n",
    "\n"
   ]
  },
  {
   "cell_type": "code",
   "execution_count": null,
   "metadata": {
    "colab": {},
    "colab_type": "code",
    "id": "liQ4y9ZJNtK4"
   },
   "outputs": [],
   "source": [
    "def make_model():\n",
    "    base_model = ResNet50(include_top=False, input_shape=(150, 150, 3), weights='imagenet')\n",
    "    for layer in base_model.layers:\n",
    "        layer.trainable = False\n",
    "    x = base_model.output\n",
    "    x = Flatten()(x)\n",
    "    x = Dense(1024, activation='relu')(x) \n",
    "    x = Dropout(0.3)(x)\n",
    "    x = Dense(512, activation='relu')(x) \n",
    "    x = Dropout(0.4)(x)\n",
    "    x = Dense(256, activation='relu')(x) \n",
    "    x = Dropout(0.3)(x)\n",
    "    predictions = Dense(6, activation='softmax')(x)\n",
    "    model = Model(inputs=base_model.input, outputs=predictions)\n",
    "    return model"
   ]
  },
  {
   "cell_type": "code",
   "execution_count": null,
   "metadata": {
    "colab": {
     "base_uri": "https://localhost:8080/",
     "height": 1196
    },
    "colab_type": "code",
    "executionInfo": {
     "elapsed": 13989,
     "status": "ok",
     "timestamp": 1553962371072,
     "user": {
      "displayName": "Akash Saravanan",
      "photoUrl": "https://lh5.googleusercontent.com/-ofj38Bj5qo0/AAAAAAAAAAI/AAAAAAAAAd4/Qp-S74XW5-0/s64/photo.jpg",
      "userId": "01828899211817759789"
     },
     "user_tz": -330
    },
    "id": "1warL-n7Cso8",
    "outputId": "664392aa-b3ca-479c-fcc2-95c4353f85aa",
    "scrolled": true
   },
   "outputs": [],
   "source": [
    "make_model().summary()"
   ]
  },
  {
   "cell_type": "markdown",
   "metadata": {
    "colab_type": "text",
    "id": "RR55h5_rNoma"
   },
   "source": [
    "# Setting up Input Data Generators\n",
    "\n",
    "---\n",
    "\n"
   ]
  },
  {
   "cell_type": "code",
   "execution_count": null,
   "metadata": {
    "colab": {},
    "colab_type": "code",
    "id": "Se5W1yGXR4Lm"
   },
   "outputs": [],
   "source": [
    "def plot_training(history):\n",
    "    acc = history.history['acc']\n",
    "    val_acc = history.history['val_acc']\n",
    "    loss = history.history['loss']\n",
    "    val_loss = history.history['val_loss']\n",
    "    epochs = range(len(acc))\n",
    "    plt.plot(epochs, acc, 'r.')\n",
    "    plt.plot(epochs, val_acc, 'r')\n",
    "    plt.title('Training and validation accuracy')\n",
    "    plt.savefig('acc_vs_epochs.png')"
   ]
  },
  {
   "cell_type": "code",
   "execution_count": null,
   "metadata": {
    "colab": {},
    "colab_type": "code",
    "id": "zGnx5NzgBuq4"
   },
   "outputs": [],
   "source": [
    "train_path = 'data/train/'"
   ]
  },
  {
   "cell_type": "code",
   "execution_count": null,
   "metadata": {
    "colab": {},
    "colab_type": "code",
    "id": "DpT3dwBVXtya"
   },
   "outputs": [],
   "source": [
    "valid_path = 'data/valid/'"
   ]
  },
  {
   "cell_type": "markdown",
   "metadata": {
    "colab_type": "text",
    "id": "vjULaDY2JAc5"
   },
   "source": [
    "No data augmentation for now."
   ]
  },
  {
   "cell_type": "code",
   "execution_count": null,
   "metadata": {
    "colab": {},
    "colab_type": "code",
    "id": "GRg5fssiIuW8"
   },
   "outputs": [],
   "source": [
    "train_datagen =  ImageDataGenerator(\n",
    "      preprocessing_function=preprocess_input,\n",
    "      rotation_range=20,\n",
    "      horizontal_flip=True,\n",
    "      vertical_flip=False\n",
    ")"
   ]
  },
  {
   "cell_type": "code",
   "execution_count": null,
   "metadata": {
    "colab": {},
    "colab_type": "code",
    "id": "lw8M-Pm9Xtyj"
   },
   "outputs": [],
   "source": [
    "valid_datagen =  ImageDataGenerator(\n",
    "      preprocessing_function=preprocess_input,\n",
    "      rotation_range=20,\n",
    "      horizontal_flip=True,\n",
    "      vertical_flip=False\n",
    ")"
   ]
  },
  {
   "cell_type": "code",
   "execution_count": null,
   "metadata": {
    "colab": {
     "base_uri": "https://localhost:8080/",
     "height": 34
    },
    "colab_type": "code",
    "executionInfo": {
     "elapsed": 927,
     "status": "ok",
     "timestamp": 1553962549729,
     "user": {
      "displayName": "Akash Saravanan",
      "photoUrl": "https://lh5.googleusercontent.com/-ofj38Bj5qo0/AAAAAAAAAAI/AAAAAAAAAd4/Qp-S74XW5-0/s64/photo.jpg",
      "userId": "01828899211817759789"
     },
     "user_tz": -330
    },
    "id": "wVTnBs19JHGV",
    "outputId": "b31eeb46-bf3e-4211-abde-1fe127bb66c0"
   },
   "outputs": [],
   "source": [
    "train_generator = train_datagen.flow_from_directory(train_path, target_size=(150, 150), \n",
    "                                                    batch_size=32, shuffle=True, seed=42)"
   ]
  },
  {
   "cell_type": "code",
   "execution_count": null,
   "metadata": {
    "colab": {
     "base_uri": "https://localhost:8080/",
     "height": 34
    },
    "colab_type": "code",
    "executionInfo": {
     "elapsed": 4851,
     "status": "ok",
     "timestamp": 1553962554294,
     "user": {
      "displayName": "Akash Saravanan",
      "photoUrl": "https://lh5.googleusercontent.com/-ofj38Bj5qo0/AAAAAAAAAAI/AAAAAAAAAd4/Qp-S74XW5-0/s64/photo.jpg",
      "userId": "01828899211817759789"
     },
     "user_tz": -330
    },
    "id": "Z8nffPCAXtyu",
    "outputId": "3c7b48f2-11c4-4ec9-f739-dc5d9c2a45a2"
   },
   "outputs": [],
   "source": [
    "valid_generator = valid_datagen.flow_from_directory(valid_path, target_size=(150, 150), \n",
    "                                                    batch_size=32, shuffle=True, seed=42)"
   ]
  },
  {
   "cell_type": "markdown",
   "metadata": {
    "colab_type": "text",
    "id": "7PhXEfyHXtyz"
   },
   "source": [
    "# Training\n",
    "\n",
    "---"
   ]
  },
  {
   "cell_type": "code",
   "execution_count": null,
   "metadata": {
    "colab": {},
    "colab_type": "code",
    "id": "3e370BXsXty0"
   },
   "outputs": [],
   "source": [
    "model = make_model()"
   ]
  },
  {
   "cell_type": "code",
   "execution_count": null,
   "metadata": {
    "colab": {},
    "colab_type": "code",
    "id": "dq_gjHEYXty3"
   },
   "outputs": [],
   "source": [
    "model.compile(Adam(lr=0.0001, decay=0.00001), loss='categorical_crossentropy', metrics=['accuracy'])"
   ]
  },
  {
   "cell_type": "code",
   "execution_count": null,
   "metadata": {
    "colab": {},
    "colab_type": "code",
    "id": "3hHLQmPWPVmD"
   },
   "outputs": [],
   "source": [
    "filepath=\"./checkpoints/\" + \"VGG16\" + \"_model_weights.h5\"\n",
    "checkpoint = ModelCheckpoint(filepath, monitor=[\"acc\"], verbose=1, mode='max')\n",
    "earlystop = EarlyStopping(monitor='val_loss', patience=1)\n",
    "callbacks_list = [checkpoint]"
   ]
  },
  {
   "cell_type": "code",
   "execution_count": null,
   "metadata": {
    "colab": {},
    "colab_type": "code",
    "id": "GjaqpeZZQZQh",
    "outputId": "52800096-573d-4f45-ff82-cd953007da1e"
   },
   "outputs": [],
   "source": [
    "history = model.fit_generator(train_generator, \n",
    "                              epochs = 10, \n",
    "                              steps_per_epoch = 13627 // 32,\n",
    "                              shuffle = True, \n",
    "                              validation_data = valid_generator,\n",
    "                              validation_steps = 3407 // 32,\n",
    "                              callbacks = callbacks_list)"
   ]
  },
  {
   "cell_type": "code",
   "execution_count": null,
   "metadata": {
    "colab": {},
    "colab_type": "code",
    "id": "agrBDdPZRuhB",
    "outputId": "9ee1acfc-3d9e-41c9-ac4f-52e11d0068f1"
   },
   "outputs": [],
   "source": [
    "plot_training(history)"
   ]
  },
  {
   "cell_type": "code",
   "execution_count": null,
   "metadata": {
    "colab": {},
    "colab_type": "code",
    "id": "viwqMrDYXtzG"
   },
   "outputs": [],
   "source": [
    "import os"
   ]
  },
  {
   "cell_type": "code",
   "execution_count": null,
   "metadata": {
    "colab": {},
    "colab_type": "code",
    "id": "EVs5aZWFXtzM"
   },
   "outputs": [],
   "source": [
    "test_path = 'data/test'"
   ]
  },
  {
   "cell_type": "code",
   "execution_count": null,
   "metadata": {
    "colab": {},
    "colab_type": "code",
    "id": "W0wsPNduXtzQ"
   },
   "outputs": [],
   "source": [
    "results = []"
   ]
  },
  {
   "cell_type": "code",
   "execution_count": null,
   "metadata": {
    "colab": {},
    "colab_type": "code",
    "id": "wz8rciPdXtzX"
   },
   "outputs": [],
   "source": [
    "for image_name in os.listdir(test_path):\n",
    "    image_path = test_path + '/' + image_name\n",
    "    image = load_img(image_path, target_size=(150, 150))\n",
    "    image = img_to_array(image)\n",
    "    image = np.array(image)\n",
    "    image = preprocess_input(image)\n",
    "    image = image.reshape(1, image.shape[0], image.shape[1], image.shape[2])\n",
    "    prediction = np.argmax(model.predict(image))\n",
    "    results.append({'image_name': image_name, 'label':prediction})"
   ]
  },
  {
   "cell_type": "code",
   "execution_count": null,
   "metadata": {
    "colab": {},
    "colab_type": "code",
    "id": "ctuv0ZCZXtzi"
   },
   "outputs": [],
   "source": [
    "df = pd.DataFrame(results, columns=['image_name', 'label'])"
   ]
  },
  {
   "cell_type": "code",
   "execution_count": null,
   "metadata": {},
   "outputs": [],
   "source": [
    "df['label'].value_counts()"
   ]
  },
  {
   "cell_type": "code",
   "execution_count": null,
   "metadata": {
    "colab": {},
    "colab_type": "code",
    "id": "r0dNhEzVXtzt"
   },
   "outputs": [],
   "source": [
    "df.to_csv(\"resnet_big_10epochs_higherlr.csv\", index=False)"
   ]
  },
  {
   "cell_type": "code",
   "execution_count": null,
   "metadata": {
    "colab": {},
    "colab_type": "code",
    "id": "gt0BmpufXtzy"
   },
   "outputs": [],
   "source": []
  }
 ],
 "metadata": {
  "colab": {
   "collapsed_sections": [
    "IUs-Fj6pOEvS",
    "apE9OdLPMqbP"
   ],
   "name": "VGG16.ipynb",
   "provenance": [],
   "version": "0.3.2"
  },
  "kernelspec": {
   "display_name": "Python 3",
   "language": "python",
   "name": "python3"
  },
  "language_info": {
   "codemirror_mode": {
    "name": "ipython",
    "version": 3
   },
   "file_extension": ".py",
   "mimetype": "text/x-python",
   "name": "python",
   "nbconvert_exporter": "python",
   "pygments_lexer": "ipython3",
   "version": "3.5.4"
  }
 },
 "nbformat": 4,
 "nbformat_minor": 1
}
